{
 "cells": [
  {
   "cell_type": "markdown",
   "id": "0bedf54e",
   "metadata": {},
   "source": [
    "# Video Synopsis generation"
   ]
  },
  {
   "cell_type": "markdown",
   "id": "80b7a32f",
   "metadata": {},
   "source": [
    "Load the starting times."
   ]
  },
  {
   "cell_type": "code",
   "execution_count": 1,
   "id": "d03f2251",
   "metadata": {},
   "outputs": [],
   "source": [
    "import json\n",
    "\n",
    "with open('/Users/nguyenduy/Desktop/pcgvs-main/notebooks/synopsis/starting_times.json', 'r') as ssfile:\n",
    "    starting_times = json.load(ssfile)\n",
    "    starting_times = { int(k):v for k, v in starting_times.items() }"
   ]
  },
  {
   "cell_type": "markdown",
   "id": "3d391816",
   "metadata": {},
   "source": [
    "Load the tubes. "
   ]
  },
  {
   "cell_type": "code",
   "execution_count": 2,
   "id": "a82aaad0",
   "metadata": {},
   "outputs": [
    {
     "name": "stderr",
     "output_type": "stream",
     "text": [
      "/opt/anaconda3/lib/python3.9/site-packages/scipy/__init__.py:146: UserWarning: A NumPy version >=1.16.5 and <1.23.0 is required for this version of SciPy (detected version 1.23.2\n",
      "  warnings.warn(f\"A NumPy version >={np_minversion} and <{np_maxversion}\"\n"
     ]
    }
   ],
   "source": [
    "# Generating an OS safe path.\n",
    "from os import path\n",
    "import os\n",
    "cwd=os.getcwd()\n",
    "from pcgvs.extraction import load_tubes_with_pandas\n",
    "from pcgvs.extraction import load_tubes_from_pandas_dataframe\n",
    "\n",
    "p = path.join(cwd, 'synopsis')\n",
    "p = path.join(p, 'tubes')\n",
    "p = path.join(p, 'exp')\n",
    "p = path.join(p, 'tracks')\n",
    "p = path.join(p, '/Users/nguyenduy/Desktop/pcgvs-main/notebooks/data/trungquoc.txt')\n",
    "\n",
    "dataframe = load_tubes_with_pandas(p)\n",
    "tubes = load_tubes_from_pandas_dataframe(dataframe)"
   ]
  },
  {
   "cell_type": "markdown",
   "id": "1d075523",
   "metadata": {},
   "source": [
    "Add the starting time to the old dataframe."
   ]
  },
  {
   "cell_type": "code",
   "execution_count": 10,
   "id": "33707760",
   "metadata": {},
   "outputs": [],
   "source": [
    "from pcgvs.aggregation import add_ss_to_dataframe\n",
    "df = add_ss_to_dataframe(dataframe, tubes, starting_times)"
   ]
  },
  {
   "cell_type": "markdown",
   "id": "cb17c555",
   "metadata": {},
   "source": [
    "Generate the synopsis."
   ]
  },
  {
   "cell_type": "code",
   "execution_count": 11,
   "id": "46097855",
   "metadata": {},
   "outputs": [
    {
     "name": "stdout",
     "output_type": "stream",
     "text": [
      "Video synopsis generated\n"
     ]
    }
   ],
   "source": [
    "from pcgvs.aggregation import add_ss_to_dataframe\n",
    "from pcgvs.synopsis import generate_frames, generate_synopsis\n",
    "from numpy import interp\n",
    "\n",
    "frames = generate_frames(df, \"/Users/nguyenduy/Desktop/pcgvs-main/notebooks/synopsis/patches\")\n",
    "generate_synopsis(frames, \"/Users/nguyenduy/Desktop/pcgvs-main/notebooks/synopsis\", 30, \"/Users/nguyenduy/Desktop/pcgvs-main/notebooks/synopsis/background.jpg\", interp)\n",
    "print('Video synopsis generated')"
   ]
  }
 ],
 "metadata": {
  "kernelspec": {
   "display_name": "Python 3.9.12 ('base')",
   "language": "python",
   "name": "python3"
  },
  "language_info": {
   "codemirror_mode": {
    "name": "ipython",
    "version": 3
   },
   "file_extension": ".py",
   "mimetype": "text/x-python",
   "name": "python",
   "nbconvert_exporter": "python",
   "pygments_lexer": "ipython3",
   "version": "3.9.12"
  },
  "vscode": {
   "interpreter": {
    "hash": "40d3a090f54c6569ab1632332b64b2c03c39dcf918b08424e98f38b5ae0af88f"
   }
  }
 },
 "nbformat": 4,
 "nbformat_minor": 5
}
