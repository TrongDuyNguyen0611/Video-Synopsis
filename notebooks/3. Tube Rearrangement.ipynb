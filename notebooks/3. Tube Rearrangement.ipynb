{
 "cells": [
  {
   "cell_type": "markdown",
   "id": "2531769e",
   "metadata": {},
   "source": [
    "# Tube rearrangement\n",
    "\n",
    "Import the output file from the **tube extraction** stage:"
   ]
  },
  {
   "cell_type": "code",
   "execution_count": 2,
   "id": "896e6232",
   "metadata": {},
   "outputs": [
    {
     "name": "stderr",
     "output_type": "stream",
     "text": [
      "/opt/anaconda3/lib/python3.9/site-packages/scipy/__init__.py:146: UserWarning: A NumPy version >=1.16.5 and <1.23.0 is required for this version of SciPy (detected version 1.23.2\n",
      "  warnings.warn(f\"A NumPy version >={np_minversion} and <{np_maxversion}\"\n"
     ]
    },
    {
     "data": {
      "text/html": [
       "<div>\n",
       "<style scoped>\n",
       "    .dataframe tbody tr th:only-of-type {\n",
       "        vertical-align: middle;\n",
       "    }\n",
       "\n",
       "    .dataframe tbody tr th {\n",
       "        vertical-align: top;\n",
       "    }\n",
       "\n",
       "    .dataframe thead th {\n",
       "        text-align: right;\n",
       "    }\n",
       "</style>\n",
       "<table border=\"1\" class=\"dataframe\">\n",
       "  <thead>\n",
       "    <tr style=\"text-align: right;\">\n",
       "      <th></th>\n",
       "      <th>frame</th>\n",
       "      <th>tag</th>\n",
       "      <th>x</th>\n",
       "      <th>y</th>\n",
       "      <th>w</th>\n",
       "      <th>h</th>\n",
       "    </tr>\n",
       "  </thead>\n",
       "  <tbody>\n",
       "    <tr>\n",
       "      <th>0</th>\n",
       "      <td>169</td>\n",
       "      <td>1</td>\n",
       "      <td>40</td>\n",
       "      <td>242</td>\n",
       "      <td>25</td>\n",
       "      <td>21</td>\n",
       "    </tr>\n",
       "    <tr>\n",
       "      <th>1</th>\n",
       "      <td>170</td>\n",
       "      <td>1</td>\n",
       "      <td>39</td>\n",
       "      <td>240</td>\n",
       "      <td>27</td>\n",
       "      <td>24</td>\n",
       "    </tr>\n",
       "    <tr>\n",
       "      <th>2</th>\n",
       "      <td>171</td>\n",
       "      <td>1</td>\n",
       "      <td>39</td>\n",
       "      <td>239</td>\n",
       "      <td>27</td>\n",
       "      <td>25</td>\n",
       "    </tr>\n",
       "    <tr>\n",
       "      <th>3</th>\n",
       "      <td>174</td>\n",
       "      <td>1</td>\n",
       "      <td>37</td>\n",
       "      <td>238</td>\n",
       "      <td>30</td>\n",
       "      <td>26</td>\n",
       "    </tr>\n",
       "    <tr>\n",
       "      <th>4</th>\n",
       "      <td>175</td>\n",
       "      <td>1</td>\n",
       "      <td>38</td>\n",
       "      <td>236</td>\n",
       "      <td>25</td>\n",
       "      <td>27</td>\n",
       "    </tr>\n",
       "    <tr>\n",
       "      <th>5</th>\n",
       "      <td>176</td>\n",
       "      <td>1</td>\n",
       "      <td>36</td>\n",
       "      <td>234</td>\n",
       "      <td>29</td>\n",
       "      <td>30</td>\n",
       "    </tr>\n",
       "    <tr>\n",
       "      <th>6</th>\n",
       "      <td>176</td>\n",
       "      <td>4</td>\n",
       "      <td>108</td>\n",
       "      <td>244</td>\n",
       "      <td>23</td>\n",
       "      <td>20</td>\n",
       "    </tr>\n",
       "    <tr>\n",
       "      <th>7</th>\n",
       "      <td>177</td>\n",
       "      <td>1</td>\n",
       "      <td>35</td>\n",
       "      <td>232</td>\n",
       "      <td>33</td>\n",
       "      <td>31</td>\n",
       "    </tr>\n",
       "    <tr>\n",
       "      <th>8</th>\n",
       "      <td>177</td>\n",
       "      <td>4</td>\n",
       "      <td>109</td>\n",
       "      <td>244</td>\n",
       "      <td>24</td>\n",
       "      <td>20</td>\n",
       "    </tr>\n",
       "    <tr>\n",
       "      <th>9</th>\n",
       "      <td>178</td>\n",
       "      <td>1</td>\n",
       "      <td>34</td>\n",
       "      <td>231</td>\n",
       "      <td>34</td>\n",
       "      <td>33</td>\n",
       "    </tr>\n",
       "  </tbody>\n",
       "</table>\n",
       "</div>"
      ],
      "text/plain": [
       "   frame  tag    x    y   w   h\n",
       "0    169    1   40  242  25  21\n",
       "1    170    1   39  240  27  24\n",
       "2    171    1   39  239  27  25\n",
       "3    174    1   37  238  30  26\n",
       "4    175    1   38  236  25  27\n",
       "5    176    1   36  234  29  30\n",
       "6    176    4  108  244  23  20\n",
       "7    177    1   35  232  33  31\n",
       "8    177    4  109  244  24  20\n",
       "9    178    1   34  231  34  33"
      ]
     },
     "execution_count": 2,
     "metadata": {},
     "output_type": "execute_result"
    }
   ],
   "source": [
    "from os import path, getcwd\n",
    "from pcgvs.extraction import load_tubes_with_pandas\n",
    "\n",
    "# Generating an OS safe path.\n",
    "p = path.join(getcwd(), 'synopsis')\n",
    "p = path.join(p, 'tubes')\n",
    "p = path.join(p, 'exp')\n",
    "p = path.join(p, 'tracks')\n",
    "p = path.join(p, '/Users/nguyenduy/Desktop/pcgvs-main/notebooks/data/test2.txt')\n",
    "\n",
    "dataframe = load_tubes_with_pandas(p)\n",
    "dataframe.head(10)"
   ]
  },
  {
   "cell_type": "markdown",
   "id": "89187a9e",
   "metadata": {},
   "source": [
    "Transform the dataframe to a list of Tube objects (see specifications at `pcgvs.extraction.Tube`) "
   ]
  },
  {
   "cell_type": "code",
   "execution_count": 55,
   "id": "9dfd8326",
   "metadata": {},
   "outputs": [
    {
     "name": "stdout",
     "output_type": "stream",
     "text": [
      "tube of object 1 starts at frame 169 and end at frame 367\n",
      "tube of object 4 starts at frame 176 and end at frame 359\n",
      "tube of object 6 starts at frame 384 and end at frame 473\n",
      "tube of object 8 starts at frame 1076 and end at frame 1232\n",
      "tube of object 10 starts at frame 1102 and end at frame 1154\n",
      "tube of object 11 starts at frame 1115 and end at frame 1151\n",
      "tube of object 14 starts at frame 1203 and end at frame 1229\n",
      "tube of object 17 starts at frame 1314 and end at frame 1463\n",
      "tube of object 19 starts at frame 1610 and end at frame 1751\n",
      "tube of object 20 starts at frame 1797 and end at frame 1874\n",
      "tube of object 21 starts at frame 1803 and end at frame 1966\n",
      "tube of object 23 starts at frame 1818 and end at frame 1890\n",
      "tube of object 24 starts at frame 1854 and end at frame 1867\n",
      "tube of object 25 starts at frame 1857 and end at frame 1969\n",
      "tube of object 26 starts at frame 2168 and end at frame 2265\n",
      "tube of object 27 starts at frame 2426 and end at frame 2604\n",
      "tube of object 28 starts at frame 2433 and end at frame 2489\n",
      "tube of object 30 starts at frame 2615 and end at frame 2676\n",
      "tube of object 31 starts at frame 2865 and end at frame 3026\n",
      "tube of object 32 starts at frame 3183 and end at frame 3378\n",
      "tube of object 34 starts at frame 3399 and end at frame 3604\n",
      "tube of object 35 starts at frame 3646 and end at frame 3701\n",
      "tube of object 36 starts at frame 3783 and end at frame 3867\n",
      "tube of object 38 starts at frame 4274 and end at frame 4451\n"
     ]
    }
   ],
   "source": [
    "from pcgvs.extraction import load_tubes_from_pandas_dataframe\n",
    "\n",
    "tubes = load_tubes_from_pandas_dataframe(dataframe)\n",
    "\n",
    "for tube in tubes:\n",
    "    print(f'tube of object {tube.tag} starts at frame {tube.sframe} and end at frame {tube.eframe}')\n",
    " "
   ]
  },
  {
   "cell_type": "markdown",
   "id": "c519e8ed",
   "metadata": {},
   "source": [
    "We use the tube rearrangement algorithm from [He Et al.](https://www.sciencedirect.com/science/article/pii/S0925231216313406) along with some of the optimizations proposed in [Allegra Et al.](https://ieeexplore.ieee.org/document/8803795).\n",
    "\n",
    "The first step of the algorithm consist in computing the relations between the tubes. The relation between two generic tubes $T_1$ and $T_2$ can be one of the following:\n",
    "\n",
    "- Irrilevant relation (`None`): the tubes trajectories doesn't intersect\n",
    "- Intersecting relation (`INT`): the tubes trajectories intersect in some frames\n",
    "- Overlapping relation (`OVL`): the tubes trajectories overlap in a long sequence of frames\n",
    "\n",
    "In order to distinguish the intersection and the overlapping, the paper specify a threshold set to 5 frames, meaning that if the frames overlaps for more than 5 consecutive frames, then it's an overlapping relation, otherwise it's an intersecting relation."
   ]
  },
  {
   "cell_type": "code",
   "execution_count": 56,
   "id": "8dfc7c66",
   "metadata": {},
   "outputs": [
    {
     "name": "stderr",
     "output_type": "stream",
     "text": [
      "100%|██████████| 552/552 [00:17<00:00, 31.67it/s]"
     ]
    },
    {
     "name": "stdout",
     "output_type": "stream",
     "text": [
      "[1]:\t(1)None\t(4)OVL\t(6)OVL\t(8)OVL\t(10)OVL\t(11)OVL\t(14)OVL\t(17)OVL\t(19)OVL\t(20)OVL\t(21)OVL\t(23)OVL\t(24)OVL\t(25)OVL\t(26)OVL\t(27)OVL\t(28)OVL\t(30)OVL\t(31)OVL\t(32)OVL\t(34)OVL\t(35)OVL\t(36)OVL\t(38)OVL\t\n",
      "[4]:\t(1)OVL\t(4)None\t(6)OVL\t(8)OVL\t(10)None\t(11)None\t(14)OVL\t(17)OVL\t(19)OVL\t(20)None\t(21)OVL\t(23)None\t(24)None\t(25)OVL\t(26)OVL\t(27)OVL\t(28)None\t(30)None\t(31)OVL\t(32)OVL\t(34)OVL\t(35)OVL\t(36)OVL\t(38)OVL\t\n",
      "[6]:\t(1)OVL\t(4)OVL\t(6)None\t(8)OVL\t(10)OVL\t(11)OVL\t(14)OVL\t(17)OVL\t(19)OVL\t(20)OVL\t(21)OVL\t(23)OVL\t(24)OVL\t(25)OVL\t(26)OVL\t(27)OVL\t(28)OVL\t(30)OVL\t(31)OVL\t(32)OVL\t(34)OVL\t(35)OVL\t(36)OVL\t(38)OVL\t\n",
      "[8]:\t(1)OVL\t(4)OVL\t(6)OVL\t(8)None\t(10)OVL\t(11)OVL\t(14)OVL\t(17)OVL\t(19)OVL\t(20)OVL\t(21)OVL\t(23)OVL\t(24)OVL\t(25)OVL\t(26)OVL\t(27)OVL\t(28)OVL\t(30)OVL\t(31)OVL\t(32)OVL\t(34)OVL\t(35)OVL\t(36)OVL\t(38)OVL\t\n",
      "[10]:\t(1)OVL\t(4)None\t(6)OVL\t(8)OVL\t(10)None\t(11)OVL\t(14)None\t(17)OVL\t(19)OVL\t(20)None\t(21)INT\t(23)None\t(24)None\t(25)OVL\t(26)None\t(27)None\t(28)None\t(30)None\t(31)OVL\t(32)OVL\t(34)INT\t(35)INT\t(36)None\t(38)None\t\n",
      "[11]:\t(1)OVL\t(4)None\t(6)OVL\t(8)OVL\t(10)OVL\t(11)None\t(14)None\t(17)None\t(19)OVL\t(20)None\t(21)None\t(23)None\t(24)None\t(25)OVL\t(26)None\t(27)None\t(28)None\t(30)None\t(31)OVL\t(32)OVL\t(34)OVL\t(35)OVL\t(36)None\t(38)None\t\n",
      "[14]:\t(1)OVL\t(4)OVL\t(6)OVL\t(8)OVL\t(10)None\t(11)None\t(14)None\t(17)OVL\t(19)OVL\t(20)OVL\t(21)OVL\t(23)OVL\t(24)OVL\t(25)OVL\t(26)OVL\t(27)OVL\t(28)OVL\t(30)OVL\t(31)OVL\t(32)OVL\t(34)OVL\t(35)OVL\t(36)OVL\t(38)OVL\t\n",
      "[17]:\t(1)OVL\t(4)OVL\t(6)OVL\t(8)OVL\t(10)OVL\t(11)None\t(14)OVL\t(17)None\t(19)OVL\t(20)OVL\t(21)OVL\t(23)OVL\t(24)None\t(25)OVL\t(26)OVL\t(27)OVL\t(28)OVL\t(30)OVL\t(31)OVL\t(32)OVL\t(34)OVL\t(35)OVL\t(36)OVL\t(38)OVL\t\n",
      "[19]:\t(1)OVL\t(4)OVL\t(6)OVL\t(8)OVL\t(10)OVL\t(11)OVL\t(14)OVL\t(17)OVL\t(19)None\t(20)OVL\t(21)OVL\t(23)OVL\t(24)INT\t(25)OVL\t(26)OVL\t(27)OVL\t(28)OVL\t(30)OVL\t(31)OVL\t(32)OVL\t(34)OVL\t(35)OVL\t(36)OVL\t(38)OVL\t\n",
      "[20]:\t(1)OVL\t(4)None\t(6)OVL\t(8)OVL\t(10)None\t(11)None\t(14)OVL\t(17)OVL\t(19)OVL\t(20)None\t(21)OVL\t(23)OVL\t(24)OVL\t(25)OVL\t(26)OVL\t(27)OVL\t(28)OVL\t(30)OVL\t(31)OVL\t(32)OVL\t(34)OVL\t(35)OVL\t(36)OVL\t(38)None\t\n",
      "[21]:\t(1)OVL\t(4)OVL\t(6)OVL\t(8)OVL\t(10)INT\t(11)None\t(14)OVL\t(17)OVL\t(19)OVL\t(20)OVL\t(21)None\t(23)INT\t(24)None\t(25)OVL\t(26)OVL\t(27)OVL\t(28)INT\t(30)OVL\t(31)OVL\t(32)OVL\t(34)OVL\t(35)OVL\t(36)OVL\t(38)OVL\t\n",
      "[23]:\t(1)OVL\t(4)None\t(6)OVL\t(8)OVL\t(10)None\t(11)None\t(14)OVL\t(17)OVL\t(19)OVL\t(20)OVL\t(21)INT\t(23)None\t(24)OVL\t(25)OVL\t(26)OVL\t(27)OVL\t(28)OVL\t(30)OVL\t(31)OVL\t(32)OVL\t(34)OVL\t(35)OVL\t(36)OVL\t(38)None\t\n",
      "[24]:\t(1)OVL\t(4)None\t(6)OVL\t(8)OVL\t(10)None\t(11)None\t(14)OVL\t(17)None\t(19)INT\t(20)OVL\t(21)None\t(23)OVL\t(24)None\t(25)OVL\t(26)OVL\t(27)None\t(28)OVL\t(30)OVL\t(31)OVL\t(32)OVL\t(34)OVL\t(35)OVL\t(36)OVL\t(38)None\t\n",
      "[25]:\t(1)OVL\t(4)OVL\t(6)OVL\t(8)OVL\t(10)OVL\t(11)OVL\t(14)OVL\t(17)OVL\t(19)OVL\t(20)OVL\t(21)OVL\t(23)OVL\t(24)OVL\t(25)None\t(26)OVL\t(27)OVL\t(28)OVL\t(30)OVL\t(31)OVL\t(32)OVL\t(34)OVL\t(35)OVL\t(36)OVL\t(38)OVL\t\n",
      "[26]:\t(1)OVL\t(4)OVL\t(6)OVL\t(8)OVL\t(10)None\t(11)None\t(14)OVL\t(17)OVL\t(19)OVL\t(20)OVL\t(21)OVL\t(23)OVL\t(24)OVL\t(25)OVL\t(26)None\t(27)OVL\t(28)OVL\t(30)OVL\t(31)OVL\t(32)OVL\t(34)OVL\t(35)OVL\t(36)OVL\t(38)OVL\t\n",
      "[27]:\t(1)OVL\t(4)OVL\t(6)OVL\t(8)OVL\t(10)None\t(11)None\t(14)OVL\t(17)OVL\t(19)OVL\t(20)OVL\t(21)OVL\t(23)OVL\t(24)None\t(25)OVL\t(26)OVL\t(27)None\t(28)OVL\t(30)OVL\t(31)OVL\t(32)OVL\t(34)OVL\t(35)OVL\t(36)OVL\t(38)OVL\t\n",
      "[28]:\t(1)OVL\t(4)None\t(6)OVL\t(8)OVL\t(10)None\t(11)None\t(14)OVL\t(17)OVL\t(19)OVL\t(20)OVL\t(21)INT\t(23)OVL\t(24)OVL\t(25)OVL\t(26)OVL\t(27)OVL\t(28)None\t(30)OVL\t(31)OVL\t(32)OVL\t(34)OVL\t(35)OVL\t(36)OVL\t(38)None\t\n",
      "[30]:\t(1)OVL\t(4)None\t(6)OVL\t(8)OVL\t(10)None\t(11)None\t(14)OVL\t(17)OVL\t(19)OVL\t(20)OVL\t(21)OVL\t(23)OVL\t(24)OVL\t(25)OVL\t(26)OVL\t(27)OVL\t(28)OVL\t(30)None\t(31)OVL\t(32)OVL\t(34)OVL\t(35)OVL\t(36)OVL\t(38)None\t\n",
      "[31]:\t(1)OVL\t(4)OVL\t(6)OVL\t(8)OVL\t(10)OVL\t(11)OVL\t(14)OVL\t(17)OVL\t(19)OVL\t(20)OVL\t(21)OVL\t(23)OVL\t(24)OVL\t(25)OVL\t(26)OVL\t(27)OVL\t(28)OVL\t(30)OVL\t(31)None\t(32)OVL\t(34)OVL\t(35)OVL\t(36)OVL\t(38)OVL\t\n",
      "[32]:\t(1)OVL\t(4)OVL\t(6)OVL\t(8)OVL\t(10)OVL\t(11)OVL\t(14)OVL\t(17)OVL\t(19)OVL\t(20)OVL\t(21)OVL\t(23)OVL\t(24)OVL\t(25)OVL\t(26)OVL\t(27)OVL\t(28)OVL\t(30)OVL\t(31)OVL\t(32)None\t(34)OVL\t(35)OVL\t(36)OVL\t(38)OVL\t\n",
      "[34]:\t(1)OVL\t(4)OVL\t(6)OVL\t(8)OVL\t(10)INT\t(11)OVL\t(14)OVL\t(17)OVL\t(19)OVL\t(20)OVL\t(21)OVL\t(23)OVL\t(24)OVL\t(25)OVL\t(26)OVL\t(27)OVL\t(28)OVL\t(30)OVL\t(31)OVL\t(32)OVL\t(34)None\t(35)OVL\t(36)OVL\t(38)OVL\t\n",
      "[35]:\t(1)OVL\t(4)OVL\t(6)OVL\t(8)OVL\t(10)INT\t(11)OVL\t(14)OVL\t(17)OVL\t(19)OVL\t(20)OVL\t(21)OVL\t(23)OVL\t(24)OVL\t(25)OVL\t(26)OVL\t(27)OVL\t(28)OVL\t(30)OVL\t(31)OVL\t(32)OVL\t(34)OVL\t(35)None\t(36)OVL\t(38)OVL\t\n",
      "[36]:\t(1)OVL\t(4)OVL\t(6)OVL\t(8)OVL\t(10)None\t(11)None\t(14)OVL\t(17)OVL\t(19)OVL\t(20)OVL\t(21)OVL\t(23)OVL\t(24)OVL\t(25)OVL\t(26)OVL\t(27)OVL\t(28)OVL\t(30)OVL\t(31)OVL\t(32)OVL\t(34)OVL\t(35)OVL\t(36)None\t(38)OVL\t\n",
      "[38]:\t(1)OVL\t(4)OVL\t(6)OVL\t(8)OVL\t(10)None\t(11)None\t(14)OVL\t(17)OVL\t(19)OVL\t(20)None\t(21)OVL\t(23)None\t(24)None\t(25)OVL\t(26)OVL\t(27)OVL\t(28)None\t(30)None\t(31)OVL\t(32)OVL\t(34)OVL\t(35)OVL\t(36)OVL\t(38)None\t\n",
      "\n"
     ]
    },
    {
     "name": "stderr",
     "output_type": "stream",
     "text": [
      "\n"
     ]
    }
   ],
   "source": [
    "from pcgvs.aggregation.relations import RelationsMap\n",
    "relations = RelationsMap(tubes)\n",
    "print(relations)"
   ]
  },
  {
   "cell_type": "code",
   "execution_count": 57,
   "id": "b716ed40",
   "metadata": {},
   "outputs": [],
   "source": [
    "f = open(\"/Users/nguyenduy/Desktop/pcgvs-main/notebooks/data/overlap_frame.txt\", \"w\")\n",
    "f.write(str(relations))\n",
    "f.close()"
   ]
  },
  {
   "cell_type": "code",
   "execution_count": 58,
   "id": "0e5bac5a",
   "metadata": {},
   "outputs": [
    {
     "name": "stdout",
     "output_type": "stream",
     "text": [
      "8\n"
     ]
    }
   ],
   "source": [
    "f = open(\"/Users/nguyenduy/Desktop/pcgvs-main/notebooks/data/overlap_frame.txt\", \"r\")\n",
    "string = f.read()\n",
    "list = string.split(\"\\t\")\n",
    "f.close()\n",
    "\n",
    "list_OVL=[]\n",
    "list_count=[]\n",
    "for i in list:\n",
    "    list_OVL.append(i[4:])\n",
    "for j in list_OVL:\n",
    "    if j=='OVL' or j=='VL' or j=='INT':\n",
    "        list_count.append('1')\n",
    "\n",
    "num_object=len(dataframe.index)\n",
    "overlap_count=len(list_count)/2\n",
    "if overlap_count>(num_object/10):\n",
    "    q=15\n",
    "elif overlap_count>(num_object/13):\n",
    "    q=8\n",
    "elif overlap_count>(num_object/16):\n",
    "    q=3\n",
    "\n",
    "print(q)"
   ]
  },
  {
   "cell_type": "markdown",
   "id": "bdb75cc2",
   "metadata": {},
   "source": [
    "Phần này a viết để tìm frame có object overlap. Sau khi overlap thì sẽ trả về frame rồi a viết ra file a.txt số frame của object đó. Sau đấy thì từ a.txt kiểm tra frame của object va chạm rồi  xử lí bằng addWeighted trong OpenCV để làm trong suốt 2 object va chạm với backgroud trong Overlap/colission.py . Cuối cùng trả về file object synopsis/patches để ghép object vào video trong notbook 4\n",
    " "
   ]
  },
  {
   "cell_type": "code",
   "execution_count": 59,
   "id": "02944aff",
   "metadata": {},
   "outputs": [],
   "source": [
    "# from tqdm import tqdm\n",
    "# from itertools import permutations"
   ]
  },
  {
   "cell_type": "code",
   "execution_count": 60,
   "id": "f7a171b3",
   "metadata": {},
   "outputs": [],
   "source": [
    "# def compute(tubes,a):\n",
    "#         n = len(tubes) \n",
    "#         for Ta, Tb in tqdm(permutations(tubes, 2), total=n*(n-1)):\n",
    "#             if Ta == Tb: continue\n",
    "#             ffintersec = None # First frame Overlap\n",
    "#             lfintersec = None # Last frame Overlap\n",
    "#             for adata in Ta:\n",
    "#                 for bdata in Tb:\n",
    "#                     frame = adata[4]\n",
    "#                     if frames_intersect(adata, bdata):\n",
    "#                         ffintersec = frame if ffintersec is None else a.append(ffintersec)\n",
    "#                         lfintersec = frame\n",
    "#                         a.append(lfintersec)\n",
    "#         return a\n",
    "\n",
    "# def frames_intersect(adata, bdata):\n",
    "#         xa, ya, wa, ha, _ = adata\n",
    "#         xb, yb, wb, hb, _ = bdata\n",
    "#         l_ax, l_ay = xa, ya             # Top-left point of square A\n",
    "#         r_ax, r_ay = xa + wa, ya + ha   # Bottom-right point of square A\n",
    "#         l_bx, l_by = xb, yb             # Top-left point of square B\n",
    "#         r_bx, r_by = xb + wb, yb + hb   # Bottom-right point of square B\n",
    "#         # Check if one square has empty area.\n",
    "#         if l_ax == r_ax or l_ay == r_ay or l_bx == r_bx or l_by == r_by:\n",
    "#             return False\n",
    "#         # Check if one square stands above the other.\n",
    "#         if r_ay < l_by or r_by < l_ay:\n",
    "#             return False\n",
    "#         # Check if one square stands on the left of the other\n",
    "#         if r_ax < l_bx or r_bx < l_ax:\n",
    "#             return False\n",
    "#         # The squares overlap!\n",
    "#         return True\n",
    "# a=[]\n",
    "# compute(tubes,a)\n",
    "\n",
    "# # compute(tubes)"
   ]
  },
  {
   "cell_type": "code",
   "execution_count": 61,
   "id": "12aa95ce",
   "metadata": {},
   "outputs": [],
   "source": [
    "# mylist = list(dict.fromkeys(a))\n",
    "# print(mylist)"
   ]
  },
  {
   "cell_type": "code",
   "execution_count": 62,
   "id": "d6cdb307",
   "metadata": {},
   "outputs": [],
   "source": [
    "# f = open(\"/Users/nguyenduy/Desktop/pcgvs-main/notebooks/data/overlap_frame.txt\", \"w\")\n",
    "# f.write(str(mylist))\n",
    "# f.close()"
   ]
  },
  {
   "cell_type": "markdown",
   "id": "77d6b9de",
   "metadata": {},
   "source": [
    "From the relation map, we need to compute the Potential Collision Graph. This graph is composed by two types of nodes: \n",
    "\n",
    "- main-node (m-node): representing a tube\n",
    "- sub-node (s-node): representing a potential collision between two tubes\n",
    "\n",
    "The following is a summary of how the nodes are generated from the relations map: \n",
    "\n",
    "- We generate a m-node for each tube\n",
    "- For each intersection between $T_1$ and $T_2$: \n",
    "    - we generate a s-node in $T_1$ containing the frame of intersection from $T_1$\n",
    "    - we generate a s-node in $T_2$ containing the frame of intersection from $T_2$\n",
    "- For each overlapping between $T_1$ and $T_2$:\n",
    "    - we generate two s-node in $T_1$, one for the starting frame and one for the ending frame\n",
    "    - we generate two s-node in $T_2$, one for the starting frame and one for the ending frame\n",
    "\n",
    "After the node generation step, we need to wire the nodes with edges. The process is summarized as follows: \n",
    "\n",
    "- For each intersection: \n",
    "    - add an edge weighted 1 between the two s-nodes\n",
    "- For each overlapping: \n",
    "    - add a directed edge between the starting and ending node weighted using $\\Delta t$\n",
    "    - add an edge between the starting nodes of $T_1$ and $T_2$ weighted -1\n",
    "    - add an edge between the ending nodes of $T_1$ and $T_2$ weighted -1\n",
    "    \n",
    "> With $\\Delta t$ we refer to the difference in frames between the end and the start of the collision"
   ]
  },
  {
   "cell_type": "code",
   "execution_count": 63,
   "id": "dd096c5e",
   "metadata": {},
   "outputs": [],
   "source": [
    "from pcgvs.aggregation.graph import PCG\n",
    "\n",
    "pcg = PCG(tubes, relations)"
   ]
  },
  {
   "cell_type": "markdown",
   "id": "8ec26604",
   "metadata": {},
   "source": [
    "We use the graph coloring technique from He Et al. paper, based on a mix between the DSATUR algorithm and the RFL algorithm, adapted for the L(q)-coloring problem. \n",
    "\n",
    "A brief description of the algorithm is presented here: \n",
    "\n",
    "1. Set the initial color $c=1$\n",
    "2. Let $U$ be the list of the uncolored nodes\n",
    "3. Compute the saturation values (see eq. (2) from He Et al.)\n",
    "3. Order $U$ by saturation values\n",
    "4. For each node $v \\in U$ check if the coloring conditions are met (see Cond.1 and Cond.2 from He Et al.)\n",
    "    1. If the conditions are met, color the node with $c$\n",
    "    2. If the node is generated from an overlapping, color the directly connected node with $c \\pm \\Delta t$ (the sign is determined by the direction) \n",
    "5. Increase $c = c+1$ and repeat the process from step 2. until $U = \\emptyset$\n",
    "\n",
    "Check the saturation computation at `pcgvs.aggregation.coloring.SaturationCache`.\n",
    "\n",
    "A suggested q value (q=3) for cars is proposed by the authors, so we set the parameter here:"
   ]
  },
  {
   "cell_type": "code",
   "execution_count": 64,
   "id": "ed1019ff",
   "metadata": {},
   "outputs": [],
   "source": [
    "# q=3"
   ]
  },
  {
   "cell_type": "code",
   "execution_count": 65,
   "id": "2588ccdc",
   "metadata": {},
   "outputs": [
    {
     "name": "stderr",
     "output_type": "stream",
     "text": [
      "100%|██████████| 944/944 [00:05<00:00, 177.67it/s] \n"
     ]
    }
   ],
   "source": [
    "from pcgvs.aggregation.coloring import color_graph\n",
    "\n",
    "color_graph(pcg, q)"
   ]
  },
  {
   "cell_type": "markdown",
   "id": "548705d6",
   "metadata": {},
   "source": [
    "Then we use the *Condensation optimization* from Allegra Et al. in order to calculate the tubes starting time in the video synopsis: "
   ]
  },
  {
   "cell_type": "code",
   "execution_count": 66,
   "id": "81839135",
   "metadata": {},
   "outputs": [
    {
     "data": {
      "text/plain": [
       "{1: 1,\n",
       " 4: 9,\n",
       " 6: 17,\n",
       " 8: 25,\n",
       " 10: 33,\n",
       " 11: 41,\n",
       " 14: 49,\n",
       " 17: 57,\n",
       " 19: 65,\n",
       " 20: 73,\n",
       " 21: 81,\n",
       " 23: 89,\n",
       " 24: 97,\n",
       " 25: 105,\n",
       " 26: 113,\n",
       " 27: 121,\n",
       " 28: 129,\n",
       " 30: 137,\n",
       " 31: 145,\n",
       " 32: 153,\n",
       " 34: 161,\n",
       " 35: 169,\n",
       " 36: 177,\n",
       " 38: 185}"
      ]
     },
     "execution_count": 66,
     "metadata": {},
     "output_type": "execute_result"
    }
   ],
   "source": [
    "from pcgvs.aggregation.coloring import tubes_starting_time\n",
    "\n",
    "starting_times = tubes_starting_time(pcg, q)\n",
    "starting_times"
   ]
  },
  {
   "cell_type": "markdown",
   "id": "3c6f1722",
   "metadata": {},
   "source": [
    "Later we will use starting times to generate the synopsis. "
   ]
  },
  {
   "cell_type": "code",
   "execution_count": 67,
   "id": "5eea4259",
   "metadata": {},
   "outputs": [],
   "source": [
    "import json\n",
    "\n",
    "with open('./synopsis/starting_times.json', 'w') as ssfile:\n",
    "    writablejson = { str(k):v for k, v in starting_times.items() }\n",
    "    json.dump(writablejson, ssfile)"
   ]
  },
  {
   "cell_type": "code",
   "execution_count": 46,
   "id": "2152d20a",
   "metadata": {},
   "outputs": [],
   "source": [
    "\n",
    "# df= load_tubes_with_pandas(p)\n",
    "# # path=\"/Users/nguyenduy/Desktop/pcgvs-main/notebooks/synopsis/patches\"\n",
    "# # images = [f for f in os.listdir(path) if os.path.splitext(f)[-1] == '.jpg']\n",
    "# # for i in images:\n",
    "# bg = cv2.imread(\"/Users/nguyenduy/Desktop/pcgvs-main/notebooks/synopsis/patches/1_169.jpg\")\n",
    "# im= cv2.imread(\"/Users/nguyenduy/Desktop/pcgvs-main/notebooks/synopsis/background.jpg\")\n",
    "\n",
    "# # Create an all white mask\n",
    "# mask = 255 * np.ones(bg.shape, bg.dtype)\n",
    "\n",
    "# # The location of the center of the src in the dst\n",
    "# width, height, channels = im.shape\n",
    "# center = (height//2, width//2)\n",
    "\n",
    "\n",
    "# # Seamlessly clone src into dst and put the results in output\n",
    "# normal_clone = cv2.seamlessClone(bg[df['x'][0],df['y'][0]], im, mask, center, cv2.NORMAL_CLONE)\n",
    "# # mixed_clone = cv2.seamlessClone(bg, im, mask, center, cv2.MIXED_CLONE)\n",
    "\n",
    "# # Write results\n",
    "# cv2.imwrite(\"/Users/nguyenduy/Desktop/pcgvs-main/notebooks/data/1.jpg\", normal_clone)"
   ]
  }
 ],
 "metadata": {
  "kernelspec": {
   "display_name": "Python 3.9.12 ('base')",
   "language": "python",
   "name": "python3"
  },
  "language_info": {
   "codemirror_mode": {
    "name": "ipython",
    "version": 3
   },
   "file_extension": ".py",
   "mimetype": "text/x-python",
   "name": "python",
   "nbconvert_exporter": "python",
   "pygments_lexer": "ipython3",
   "version": "3.9.12"
  },
  "vscode": {
   "interpreter": {
    "hash": "40d3a090f54c6569ab1632332b64b2c03c39dcf918b08424e98f38b5ae0af88f"
   }
  }
 },
 "nbformat": 4,
 "nbformat_minor": 5
}
