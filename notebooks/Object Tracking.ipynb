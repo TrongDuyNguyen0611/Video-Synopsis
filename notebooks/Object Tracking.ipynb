{
  "cells": [
    {
      "cell_type": "code",
      "execution_count": 1,
      "metadata": {
        "id": "NANmjld65mhL"
      },
      "outputs": [
        {
          "name": "stdout",
          "output_type": "stream",
          "text": [
            "Cloning into 'Yolov5_DeepSort_Pytorch'...\n",
            "remote: Enumerating objects: 1764, done.\u001b[K\n",
            "remote: Counting objects: 100% (126/126), done.\u001b[K\n",
            "remote: Compressing objects: 100% (66/66), done.\u001b[K\n",
            "remote: Total 1764 (delta 72), reused 105 (delta 60), pack-reused 1638\u001b[K\n",
            "Receiving objects: 100% (1764/1764), 36.08 MiB | 927.00 KiB/s, done.\n",
            "Resolving deltas: 100% (908/908), done.\n",
            "Submodule 'strong_sort/deep/reid' (https://github.com/KaiyangZhou/deep-person-reid) registered for path 'strong_sort/deep/reid'\n",
            "Submodule 'yolov5' (https://github.com/ultralytics/yolov5.git) registered for path 'yolov5'\n",
            "Cloning into '/Users/nguyenduy/Desktop/pcgvs-main/notebooks/Yolov5_DeepSort_Pytorch/strong_sort/deep/reid'...\n",
            "remote: Enumerating objects: 9860, done.        \n",
            "remote: Counting objects: 100% (10/10), done.        \n",
            "remote: Compressing objects: 100% (9/9), done.        \n",
            "remote: Total 9860 (delta 1), reused 9 (delta 1), pack-reused 9850        \n",
            "Receiving objects: 100% (9860/9860), 9.57 MiB | 344.00 KiB/s, done.\n",
            "Resolving deltas: 100% (7286/7286), done.\n",
            "Cloning into '/Users/nguyenduy/Desktop/pcgvs-main/notebooks/Yolov5_DeepSort_Pytorch/yolov5'...\n",
            "remote: Enumerating objects: 12194, done.        \n",
            "remote: Total 12194 (delta 0), reused 0 (delta 0), pack-reused 12194        \n",
            "Receiving objects: 100% (12194/12194), 12.57 MiB | 584.00 KiB/s, done.\n",
            "Resolving deltas: 100% (8402/8402), done.\n",
            "Submodule path 'strong_sort/deep/reid': checked out '4a0793780bd13f53ec2ca753a94dcef62dc9e955'\n",
            "Submodule path 'yolov5': checked out '91a81d48fa4e34dbdbaf0e45a1f841c11216aab5'\n"
          ]
        }
      ],
      "source": [
        "!git clone --recurse-submodules https://github.com/mikel-brostrom/Yolov5_DeepSort_Pytorch.git"
      ]
    },
    {
      "cell_type": "code",
      "execution_count": 1,
      "metadata": {
        "id": "qkFDIy-55sx3"
      },
      "outputs": [
        {
          "name": "stdout",
          "output_type": "stream",
          "text": [
            "/Users/nguyenduy/Desktop/pcgvs-main/notebooks/Yolov5_DeepSort_Pytorch\n"
          ]
        }
      ],
      "source": [
        "%cd Yolov5_DeepSort_Pytorch"
      ]
    },
    {
      "cell_type": "code",
      "execution_count": null,
      "metadata": {
        "id": "6ssQVeeR5s0u"
      },
      "outputs": [],
      "source": [
        "# ! pip install -r requirements.txt"
      ]
    },
    {
      "cell_type": "code",
      "execution_count": 7,
      "metadata": {
        "id": "V_YTf8DU5tFJ"
      },
      "outputs": [
        {
          "name": "stdout",
          "output_type": "stream",
          "text": [
            "Traceback (most recent call last):\n",
            "  File \"/Users/nguyenduy/Desktop/pcgvs-main/notebooks/Yolov5_DeepSort_Pytorch/track.py\", line 14, in <module>\n",
            "    import torch\n",
            "  File \"/opt/anaconda3/lib/python3.9/site-packages/torch/__init__.py\", line 202, in <module>\n",
            "    from torch._C import *  # noqa: F403\n",
            "ImportError: dlopen(/opt/anaconda3/lib/python3.9/site-packages/torch/_C.cpython-39-darwin.so, 2): Library not loaded: @loader_path/../.dylibs/libomp.dylib\n",
            "  Referenced from: /opt/anaconda3/lib/python3.9/site-packages/torch/lib/libtorch_cpu.dylib\n",
            "  Reason: no suitable image found.  Did find:\n",
            "\t/opt/anaconda3/lib/python3.9/site-packages/torch/lib/../.dylibs/libomp.dylib: cannot load 'libomp.dylib' (load command 0x80000034 is unknown)\n",
            "\t/opt/anaconda3/lib/python3.9/site-packages/torch/lib/../.dylibs/libomp.dylib: cannot load 'libomp.dylib' (load command 0x80000034 is unknown)\n"
          ]
        }
      ],
      "source": [
        "! python track.py --source /Users/nguyenduy/Desktop/pcgvs-main/notebooks/videos/video4.mp4 --yolo-weights weights/yolov5m.pt --strong-sort-weights osnet_x0_25_msmt17.pt --save-vid --classes 0  "
      ]
    },
    {
      "cell_type": "code",
      "execution_count": 8,
      "metadata": {
        "id": "qa4tJkBc5s71"
      },
      "outputs": [
        {
          "name": "stdout",
          "output_type": "stream",
          "text": [
            "Traceback (most recent call last):\n",
            "  File \"/Users/nguyenduy/Desktop/pcgvs-main/notebooks/Yolov5_DeepSort_Pytorch/track.py\", line 14, in <module>\n",
            "    import torch\n",
            "  File \"/opt/anaconda3/lib/python3.9/site-packages/torch/__init__.py\", line 202, in <module>\n",
            "    from torch._C import *  # noqa: F403\n",
            "ImportError: dlopen(/opt/anaconda3/lib/python3.9/site-packages/torch/_C.cpython-39-darwin.so, 2): Library not loaded: @loader_path/../.dylibs/libomp.dylib\n",
            "  Referenced from: /opt/anaconda3/lib/python3.9/site-packages/torch/lib/libtorch_cpu.dylib\n",
            "  Reason: no suitable image found.  Did find:\n",
            "\t/opt/anaconda3/lib/python3.9/site-packages/torch/lib/../.dylibs/libomp.dylib: cannot load 'libomp.dylib' (load command 0x80000034 is unknown)\n",
            "\t/opt/anaconda3/lib/python3.9/site-packages/torch/lib/../.dylibs/libomp.dylib: cannot load 'libomp.dylib' (load command 0x80000034 is unknown)\n"
          ]
        }
      ],
      "source": [
        "!python track.py --source /Users/nguyenduy/Desktop/pcgvs-main/notebooks/videos/video4.mp4 --strong-sort-weights osnet_x0_25_msmt17.pt\n"
      ]
    },
    {
      "cell_type": "code",
      "execution_count": null,
      "metadata": {
        "id": "Am_RSUex5tDE"
      },
      "outputs": [],
      "source": [
        "!python track.py --source video.mp4 --yolo-weights weights/yolov5m.pt --img 640  --strong-sort-weights osnet_x0_25_msmt17.pt  --save-vid"
      ]
    },
    {
      "cell_type": "code",
      "execution_count": null,
      "metadata": {
        "id": "3ZEg-YM15tNE"
      },
      "outputs": [],
      "source": []
    }
  ],
  "metadata": {
    "accelerator": "GPU",
    "colab": {
      "collapsed_sections": [],
      "private_outputs": true,
      "provenance": []
    },
    "gpuClass": "standard",
    "kernelspec": {
      "display_name": "Python 3.9.12 ('base')",
      "language": "python",
      "name": "python3"
    },
    "language_info": {
      "codemirror_mode": {
        "name": "ipython",
        "version": 3
      },
      "file_extension": ".py",
      "mimetype": "text/x-python",
      "name": "python",
      "nbconvert_exporter": "python",
      "pygments_lexer": "ipython3",
      "version": "3.9.12"
    },
    "vscode": {
      "interpreter": {
        "hash": "40d3a090f54c6569ab1632332b64b2c03c39dcf918b08424e98f38b5ae0af88f"
      }
    }
  },
  "nbformat": 4,
  "nbformat_minor": 0
}
